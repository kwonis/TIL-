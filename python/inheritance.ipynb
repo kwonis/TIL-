{
 "cells": [
  {
   "cell_type": "markdown",
   "metadata": {},
   "source": [
    "### 상속의 이해"
   ]
  },
  {
   "cell_type": "code",
   "execution_count": 2,
   "metadata": {},
   "outputs": [
    {
     "name": "stdout",
     "output_type": "stream",
     "text": [
      "Novel 모델 인스턴스의 PK와 save 메서드\n",
      "1\n",
      "2\n",
      "데이터를 저장합니다.\n",
      "데이터를 저장합니다.\n",
      "허균\n",
      "작자미상\n",
      "---\n",
      "Other 모델 인스턴스의 PK와 save 메서드\n",
      "3\n",
      "데이터를 다른 장소에 저장합니다.\n",
      "---\n",
      "모델 별 타입\n",
      "Basic Model\n",
      "Other Model\n"
     ]
    }
   ],
   "source": [
    "class BaseModel:\n",
    "    PK = 1\n",
    "    TYPE = 'Basic Model'\n",
    "\n",
    "    def __init__(self, data_type, title, content, created_at, updated_at):\n",
    "        self.PK = BaseModel.PK\n",
    "        self.data_type = data_type \n",
    "        self.title = title \n",
    "        self.content = content \n",
    "        self.created_at = created_at \n",
    "        self.updated_at = updated_at\n",
    "        BaseModel.PK += 1\n",
    "    \n",
    "    def save(self):\n",
    "        print('데이터를 저장합니다.')\n",
    "\n",
    "class Novel(BaseModel):\n",
    "    def __init__(self, data_type, title, content, created_at, updated_at, author):\n",
    "        super().__init__(data_type, title, content, created_at, updated_at)\n",
    "        self.author = author\n",
    "    \n",
    "class Other(BaseModel):\n",
    "    TYPE = 'Other Model'\n",
    "\n",
    "    def __init__(self, data_type, title, content, created_at, updated_at):\n",
    "        super().__init__(data_type, title, content, created_at, updated_at)\n",
    "    \n",
    "    def save(self):\n",
    "        print('데이터를 다른 장소에 저장합니다.')\n",
    "\n",
    "hong = Novel('소설', '홍길동', '고전 소설', 1618, 1692, '허균')\n",
    "chun = Novel('소설', '춘향전', '고전 소설', 'unknown', 'unknown', '작자미상')\n",
    "print('Novel 모델 인스턴스의 PK와 save 메서드')\n",
    "print(hong.PK)\n",
    "print(chun.PK)\n",
    "hong.save()\n",
    "chun.save()\n",
    "print(hong.author)\n",
    "print(chun.author)\n",
    "print('---')\n",
    "\n",
    "company = Other('회사', '회사명', '회사 설명', 2000, 2023)\n",
    "print('Other 모델 인스턴스의 PK와 save 메서드')\n",
    "print(company.PK)\n",
    "company.save()\n",
    "\n",
    "print('---')\n",
    "print('모델 별 타입')\n",
    "print(Novel.TYPE)\n",
    "print(Other.TYPE)\n",
    "\n"
   ]
  },
  {
   "cell_type": "markdown",
   "metadata": {},
   "source": [
    "### 다중 상속의 이해"
   ]
  },
  {
   "cell_type": "code",
   "execution_count": 1,
   "metadata": {},
   "outputs": [
    {
     "name": "stdout",
     "output_type": "stream",
     "text": [
      "ExtendedModel 인스턴스의 정보 출력 및 저장 메서드 호출\n",
      "PK: 1, TYPE: Other Model, Extended Type: Extended Type\n",
      "데이터를 확장해서 저장합니다.\n"
     ]
    }
   ],
   "source": [
    "class BaseModel:\n",
    "    PK = 1\n",
    "    TYPE = 'Basic Model'\n",
    "\n",
    "    def __init__(self, data_type, title, content, created_at, updated_at):\n",
    "        self.PK = BaseModel.PK\n",
    "        self.data_type = data_type \n",
    "        self.title = title \n",
    "        self.content = content \n",
    "        self.created_at = created_at \n",
    "        self.updated_at = updated_at\n",
    "        BaseModel.PK += 1\n",
    "    \n",
    "    def save(self):\n",
    "        print('데이터를 저장합니다.')\n",
    "\n",
    "class Novel(BaseModel):\n",
    "    def __init__(self, data_type, title, content, created_at, updated_at, author):\n",
    "        super().__init__(data_type, title, content, created_at, updated_at)\n",
    "        self.author = author\n",
    "    \n",
    "class Other(BaseModel):\n",
    "    TYPE = 'Other Model'\n",
    "\n",
    "    def __init__(self, data_type, title, content, created_at, updated_at):\n",
    "        super().__init__(data_type, title, content, created_at, updated_at)\n",
    "    \n",
    "    def save(self):\n",
    "        print('데이터를 다른 장소에 저장합니다.')\n",
    "\n",
    "class ExtendedModel(Novel, Other):\n",
    "    def __init__(self, extended_type):\n",
    "        self.extended_type = extended_type\n",
    "    \n",
    "    def display_info(self):\n",
    "        print(f'PK: {self.PK}, TYPE: {self.TYPE}, Extended Type: {self.extended_type}')\n",
    "    \n",
    "    def save(self):\n",
    "        print('데이터를 확장해서 저장합니다.')\n",
    "\n",
    "extended_instance = ExtendedModel('Extended Type')\n",
    "print('ExtendedModel 인스턴스의 정보 출력 및 저장 메서드 호출')\n",
    "extended_instance.display_info()\n",
    "extended_instance.save()\n"
   ]
  },
  {
   "cell_type": "markdown",
   "metadata": {},
   "source": [
    "### 클래스의 이해"
   ]
  },
  {
   "cell_type": "code",
   "execution_count": 3,
   "metadata": {},
   "outputs": [
    {
     "name": "stdout",
     "output_type": "stream",
     "text": [
      "동물의 수는 1마리 입니다.\n",
      "동물의 수는 2마리 입니다.\n"
     ]
    }
   ],
   "source": [
    "class Animal:\n",
    "    num_of_animal = 0\n",
    "\n",
    "class Dog(Animal):\n",
    "    def __init__(self):\n",
    "        Animal.num_of_animal += 1\n",
    "\n",
    "\n",
    "class Cat(Animal):\n",
    "    def __init__(self):\n",
    "        Animal.num_of_animal += 1\n",
    "        \n",
    "\n",
    "class Pet(Dog, Cat):\n",
    "    def __init__(self):\n",
    "        pass\n",
    " \n",
    "    @classmethod\n",
    "    def access_num_of_animal(cls):\n",
    "        return f'동물의 수는 {cls.num_of_animal}마리 입니다.'\n",
    "\n",
    "\n",
    "dog = Dog()\n",
    "print(Pet.access_num_of_animal())\n",
    "cat = Cat()\n",
    "print(Pet.access_num_of_animal())"
   ]
  },
  {
   "cell_type": "code",
   "execution_count": 4,
   "metadata": {},
   "outputs": [
    {
     "name": "stdout",
     "output_type": "stream",
     "text": [
      "그르르\n",
      "멍멍!\n",
      "야옹!\n",
      "애완동물과 놀기\n"
     ]
    }
   ],
   "source": [
    "class Animal:\n",
    "    num_of_animal = 0\n",
    "\n",
    "class Dog(Animal):\n",
    "    def __init__(self):\n",
    "        Animal.num_of_animal += 1\n",
    "\n",
    "    def bark(self):\n",
    "       print('멍멍!')\n",
    " \n",
    "class Cat(Animal):\n",
    "    def __init__(self, sound):\n",
    "        self.sound = sound\n",
    "        \n",
    "    def meow(self):\n",
    "        print('야옹!')       \n",
    "\n",
    "class Pet(Dog, Cat):\n",
    "    def __init__(self, sound):\n",
    "        self.sound = sound\n",
    "    \n",
    "    def play(self):\n",
    "        print('애완동물과 놀기')\n",
    "\n",
    "    def make_sound(self):\n",
    "        print(self.sound)\n",
    "\n",
    "pet1 = Pet(\"그르르\")\n",
    "pet1.make_sound()\n",
    "pet1.bark()\n",
    "pet1.meow()\n",
    "pet1.play()"
   ]
  },
  {
   "cell_type": "markdown",
   "metadata": {},
   "source": [
    "다중 상속시 우선 상속에 따른 출력 결과를 각각 확인해보기"
   ]
  },
  {
   "cell_type": "code",
   "execution_count": 6,
   "metadata": {},
   "outputs": [
    {
     "name": "stdout",
     "output_type": "stream",
     "text": [
      "애완동물은 멍멍 소리를 냅니다.\n"
     ]
    }
   ],
   "source": [
    "class Dog:\n",
    "    sound = '멍멍'\n",
    "    def __init__(self):\n",
    "        pass\n",
    "\n",
    "\n",
    "class Cat:\n",
    "    sound = '야옹'\n",
    "    def __init__(self):\n",
    "        pass\n",
    "\n",
    "\n",
    "class Pet(Dog, Cat):\n",
    "    def __init__(self):\n",
    "        pass\n",
    "\n",
    "    def __str__(self):\n",
    "        return f'애완동물은 {self.sound} 소리를 냅니다.'\n",
    "\n",
    "\n",
    "pet = Pet()\n",
    "print(pet)"
   ]
  },
  {
   "cell_type": "code",
   "execution_count": 7,
   "metadata": {},
   "outputs": [
    {
     "name": "stdout",
     "output_type": "stream",
     "text": [
      "애완동물은 야옹 소리를 냅니다.\n"
     ]
    }
   ],
   "source": [
    "class Dog:\n",
    "    sound = '멍멍'\n",
    "    def __init__(self):\n",
    "        pass\n",
    "\n",
    "\n",
    "class Cat:\n",
    "    sound = '야옹'\n",
    "    def __init__(self):\n",
    "        pass\n",
    "\n",
    "\n",
    "class Pet(Cat, Dog):\n",
    "    def __init__(self):\n",
    "        pass\n",
    "\n",
    "    def __str__(self):\n",
    "        return f'애완동물은 {self.sound} 소리를 냅니다.'\n",
    "\n",
    "\n",
    "pet = Pet()\n",
    "print(pet)"
   ]
  },
  {
   "cell_type": "code",
   "execution_count": null,
   "metadata": {},
   "outputs": [],
   "source": []
  }
 ],
 "metadata": {
  "kernelspec": {
   "display_name": "Python 3",
   "language": "python",
   "name": "python3"
  },
  "language_info": {
   "codemirror_mode": {
    "name": "ipython",
    "version": 3
   },
   "file_extension": ".py",
   "mimetype": "text/x-python",
   "name": "python",
   "nbconvert_exporter": "python",
   "pygments_lexer": "ipython3",
   "version": "3.9.13"
  }
 },
 "nbformat": 4,
 "nbformat_minor": 2
}
